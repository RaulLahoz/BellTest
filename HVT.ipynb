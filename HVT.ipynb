{
 "cells": [
  {
   "cell_type": "code",
   "execution_count": 173,
   "metadata": {},
   "outputs": [],
   "source": [
    "import numpy as np\n",
    "import random"
   ]
  },
  {
   "cell_type": "code",
   "execution_count": 174,
   "metadata": {},
   "outputs": [],
   "source": [
    "def comparar_angulos(angulo1, angulo2):\n",
    "    \n",
    "    # Ajustamos los ángulos dentro del rango de 0 a 360 grados\n",
    "    angulo1 %= 360\n",
    "    angulo2 %= 360\n",
    "\n",
    "    # Calcular la diferencia entre los ángulos\n",
    "    diferencia = abs(angulo1 - angulo2)\n",
    "    \n",
    "    if angulo1 > 360 or angulo1 < 0:\n",
    "        print(\"Hola\")\n",
    "    if angulo2 > 360 or angulo2 < 0:\n",
    "        print(\"Hola\")\n",
    "    if diferencia > 360 or diferencia < 0:\n",
    "        print(\"Hola\")\n",
    "\n",
    "    # Si el fotón atraviesa el polarizador (está a una distancia angular inferior a 45 grados o superior a 135 grados) \n",
    "    # devolvemos un 1, sino un 0.\n",
    "    if diferencia <= 45 and diferencia >= 0:\n",
    "        return 1\n",
    "    if diferencia > 45 and diferencia <= 135:\n",
    "        return 0\n",
    "    if diferencia > 135 and diferencia <= 225:\n",
    "        return 1\n",
    "    if diferencia > 225 and diferencia <= 315:\n",
    "        return 0\n",
    "    if diferencia > 315 and diferencia <= 360:\n",
    "        return 1\n",
    "    \n",
    "    print(diferencia)\n",
    "    return 0\n",
    "    \n"
   ]
  },
  {
   "cell_type": "code",
   "execution_count": 185,
   "metadata": {},
   "outputs": [],
   "source": [
    "def Calculation_S(n_measurements, a, A, b, B):\n",
    "\n",
    "    P_VV_ab, P_HH_ab, P_VH_ab, P_HV_ab = (0, 0, 0, 0)\n",
    "    P_VV_aB, P_HH_aB, P_VH_aB, P_HV_aB = (0, 0, 0, 0)\n",
    "    P_VV_Ab, P_HH_Ab, P_VH_Ab, P_HV_Ab = (0, 0, 0, 0)\n",
    "    P_VV_AB, P_HH_AB, P_VH_AB, P_HV_AB = (0, 0, 0, 0)\n",
    "    \n",
    "\n",
    "    for _ in range(n_measurements):\n",
    "        #Elegimos aleatoriamnete la variable oculta que describe el estado de cada fotón\n",
    "        l_s = random.uniform(0, 360)\n",
    "        l_i = random.uniform(0, 360)\n",
    "        #l_i = l_s\n",
    "        \n",
    "        #Calculamos las probabilidades P_VV, P_HH, P_VH y P_HV para las diferentes combinaciones de polarizadores\n",
    "        P_VV_ab += (comparar_angulos(l_s, a)*comparar_angulos(l_i, b))\n",
    "        P_VV_aB += (comparar_angulos(l_s, a)*comparar_angulos(l_i, B))\n",
    "        P_VV_Ab += (comparar_angulos(l_s, A)*comparar_angulos(l_i, b))\n",
    "        P_VV_AB += (comparar_angulos(l_s, A)*comparar_angulos(l_i, B))\n",
    "\n",
    "        P_HH_ab += (comparar_angulos(l_s, a+90)*comparar_angulos(l_i, b+90))\n",
    "        P_HH_aB += (comparar_angulos(l_s, a+90)*comparar_angulos(l_i, B+90))\n",
    "        P_HH_Ab += (comparar_angulos(l_s, A+90)*comparar_angulos(l_i, b+90))\n",
    "        P_HH_AB += (comparar_angulos(l_s, A+90)*comparar_angulos(l_i, B+90))\n",
    "\n",
    "        P_VH_ab += (comparar_angulos(l_s, a)*comparar_angulos(l_i, b+90))\n",
    "        P_VH_aB += (comparar_angulos(l_s, a)*comparar_angulos(l_i, B+90))\n",
    "        P_VH_Ab += (comparar_angulos(l_s, A)*comparar_angulos(l_i, b+90))\n",
    "        P_VH_AB += (comparar_angulos(l_s, A)*comparar_angulos(l_i, B+90))\n",
    "\n",
    "        P_HV_ab += (comparar_angulos(l_s, a+90)*comparar_angulos(l_i, b))\n",
    "        P_HV_aB += (comparar_angulos(l_s, a+90)*comparar_angulos(l_i, B))\n",
    "        P_HV_Ab += (comparar_angulos(l_s, A+90)*comparar_angulos(l_i, b))\n",
    "        P_HV_AB += (comparar_angulos(l_s, A+90)*comparar_angulos(l_i, B))\n",
    "  \n",
    "    # Calculamos el valor dela medida de correlación para los cuatro diferentes escenarios   \n",
    "    E_ab = (P_VV_ab + P_HH_ab - P_VH_ab - P_HV_ab) / (P_VV_ab + P_HH_ab + P_VH_ab + P_HV_ab)\n",
    "    E_aB = (P_VV_aB + P_HH_aB - P_VH_aB - P_HV_aB) / (P_VV_aB + P_HH_aB + P_VH_aB + P_HV_aB)\n",
    "    E_Ab = (P_VV_Ab + P_HH_Ab - P_VH_Ab - P_HV_Ab) / (P_VV_Ab + P_HH_Ab + P_VH_Ab + P_HV_Ab)\n",
    "    E_AB = (P_VV_AB + P_HH_AB - P_VH_AB - P_HV_AB) / (P_VV_AB + P_HH_AB + P_VH_AB + P_HV_AB)\n",
    "    \n",
    "    # Calculamos el valor de S\n",
    "    return E_ab+E_aB+E_Ab-E_AB\n"
   ]
  },
  {
   "cell_type": "code",
   "execution_count": 186,
   "metadata": {},
   "outputs": [],
   "source": [
    "#Calculamos el valor de S para distintos escenarios con posiciones de los polarizadores aleatorias\n",
    "\n",
    "n_scenarios = 100\n",
    "n_measurements = 1000\n",
    "\n",
    "for _ in range(n_scenarios):\n",
    "    #Damos valores aleatorios a los ángulos de nuestros polarizadores\n",
    "    a = random.uniform(0, 360)\n",
    "    A = random.uniform(0, 360)\n",
    "    b = random.uniform(0, 360)\n",
    "    B = random.uniform(0, 360)\n",
    "    \n",
    "    #Calculamos el valor absoluto de S\n",
    "    S = abs(Calculo_S(n_measurements,a,A,b,B))\n",
    "    #print(S)\n",
    "    \n",
    "    #Si el valor de S es mayor de 2 detenemos la simulación, \n",
    "    #hemos violado las desigualdades de Bell con un estado descrito por la HVT.\n",
    "    #Si el valor de S es siempre menor de 2 en todos los escenarios, entonces ningún escenario\n",
    "    #ha sido capaz de violar las desigualdades de Bell\n",
    "    \n",
    "    if S > 2:\n",
    "        print(\"Se han violado las desigualdades de Bell\")\n",
    "        break"
   ]
  },
  {
   "cell_type": "code",
   "execution_count": 187,
   "metadata": {},
   "outputs": [
    {
     "name": "stdout",
     "output_type": "stream",
     "text": [
      "0.008\n"
     ]
    }
   ],
   "source": [
    "a = 0\n",
    "A = 45\n",
    "b = 22.5\n",
    "B = -22.5\n",
    "\n",
    "# Si vamos a la función \"Calculation_S\" y des-comentamos la línea de código en la que tenemos la sentancia de l_i = l_s\n",
    "# entonces tendremos que ambos fotones poseen la misma polarización en todo momento. Podemos ver que para este escenario\n",
    "# y la dirección de los polarizadores como hemos definido justo arriba tenemos que alcanzamos el valor máximo de S (S=2) \n",
    "# para el caso en el que las correlaciones se rigen por teorías de Variables Ocultas.\n",
    "\n",
    "print(abs(Calculation_S(n_measurements,a,A,b,B)))"
   ]
  },
  {
   "cell_type": "code",
   "execution_count": null,
   "metadata": {},
   "outputs": [],
   "source": []
  }
 ],
 "metadata": {
  "kernelspec": {
   "display_name": "Python 3",
   "language": "python",
   "name": "python3"
  },
  "language_info": {
   "codemirror_mode": {
    "name": "ipython",
    "version": 3
   },
   "file_extension": ".py",
   "mimetype": "text/x-python",
   "name": "python",
   "nbconvert_exporter": "python",
   "pygments_lexer": "ipython3",
   "version": "3.8.5"
  }
 },
 "nbformat": 4,
 "nbformat_minor": 4
}
