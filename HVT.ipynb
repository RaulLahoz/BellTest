{
 "cells": [
  {
   "cell_type": "code",
   "execution_count": 1,
   "metadata": {},
   "outputs": [],
   "source": [
    "import numpy as np\n",
    "import random"
   ]
  },
  {
   "cell_type": "code",
   "execution_count": 2,
   "metadata": {},
   "outputs": [],
   "source": [
    "def compare_angles(angle1, angle2):\n",
    "    \n",
    "    # We adjust the angles within the range of 0 to 360 degrees.\n",
    "    angle1 %= 360\n",
    "    angle2 %= 360\n",
    "\n",
    "    # Calculate the difference between the angles.\n",
    "    difference = abs(angle1 - angle2)\n",
    "\n",
    "    # If the photon passes through the polarizer (it is at an angular distance less\n",
    "    # than 45 degrees or greater than 135 degrees), we return a 1, otherwise a 0.\n",
    "    \n",
    "    if difference <= 45 and difference >= 0:\n",
    "        return 1\n",
    "    if difference > 45 and difference <= 135:\n",
    "        return 0\n",
    "    if difference > 135 and difference <= 225:\n",
    "        return 1\n",
    "    if difference > 225 and difference <= 315:\n",
    "        return 0\n",
    "    if difference > 315 and difference <= 360:\n",
    "        return 1\n",
    "    \n",
    "    return 0\n",
    "    \n"
   ]
  },
  {
   "cell_type": "code",
   "execution_count": 5,
   "metadata": {},
   "outputs": [],
   "source": [
    "def Calculation_S(n_measurements, a, A, b, B, flag):\n",
    "\n",
    "    P_VV_ab, P_HH_ab, P_VH_ab, P_HV_ab = (0, 0, 0, 0)\n",
    "    P_VV_aB, P_HH_aB, P_VH_aB, P_HV_aB = (0, 0, 0, 0)\n",
    "    P_VV_Ab, P_HH_Ab, P_VH_Ab, P_HV_Ab = (0, 0, 0, 0)\n",
    "    P_VV_AB, P_HH_AB, P_VH_AB, P_HV_AB = (0, 0, 0, 0)\n",
    "    \n",
    "\n",
    "    for _ in range(n_measurements):\n",
    "        \n",
    "        if flag == 0:\n",
    "            # We randomly choose the hidden variable that describes the state of each photon.\n",
    "            l_s = random.uniform(0, 360)\n",
    "            l_i = random.uniform(0, 360)\n",
    "        else:\n",
    "            l_s = random.uniform(0, 360)\n",
    "            l_i = l_s\n",
    "        \n",
    "        # We calculate the probabilities P_VV, P_HH, P_VH, and P_HV for the different combinations of polarizers.\n",
    "        P_VV_ab += (compare_angles(l_s, a)*compare_angles(l_i, b))\n",
    "        P_VV_aB += (compare_angles(l_s, a)*compare_angles(l_i, B))\n",
    "        P_VV_Ab += (compare_angles(l_s, A)*compare_angles(l_i, b))\n",
    "        P_VV_AB += (compare_angles(l_s, A)*compare_angles(l_i, B))\n",
    "\n",
    "        P_HH_ab += (compare_angles(l_s, a+90)*compare_angles(l_i, b+90))\n",
    "        P_HH_aB += (compare_angles(l_s, a+90)*compare_angles(l_i, B+90))\n",
    "        P_HH_Ab += (compare_angles(l_s, A+90)*compare_angles(l_i, b+90))\n",
    "        P_HH_AB += (compare_angles(l_s, A+90)*compare_angles(l_i, B+90))\n",
    "\n",
    "        P_VH_ab += (compare_angles(l_s, a)*compare_angles(l_i, b+90))\n",
    "        P_VH_aB += (compare_angles(l_s, a)*compare_angles(l_i, B+90))\n",
    "        P_VH_Ab += (compare_angles(l_s, A)*compare_angles(l_i, b+90))\n",
    "        P_VH_AB += (compare_angles(l_s, A)*compare_angles(l_i, B+90))\n",
    "\n",
    "        P_HV_ab += (compare_angles(l_s, a+90)*compare_angles(l_i, b))\n",
    "        P_HV_aB += (compare_angles(l_s, a+90)*compare_angles(l_i, B))\n",
    "        P_HV_Ab += (compare_angles(l_s, A+90)*compare_angles(l_i, b))\n",
    "        P_HV_AB += (compare_angles(l_s, A+90)*compare_angles(l_i, B))\n",
    "  \n",
    "    # We calculate the value of the correlation measurement for the four different scenarios. \n",
    "    E_ab = (P_VV_ab + P_HH_ab - P_VH_ab - P_HV_ab) / (P_VV_ab + P_HH_ab + P_VH_ab + P_HV_ab)\n",
    "    E_aB = (P_VV_aB + P_HH_aB - P_VH_aB - P_HV_aB) / (P_VV_aB + P_HH_aB + P_VH_aB + P_HV_aB)\n",
    "    E_Ab = (P_VV_Ab + P_HH_Ab - P_VH_Ab - P_HV_Ab) / (P_VV_Ab + P_HH_Ab + P_VH_Ab + P_HV_Ab)\n",
    "    E_AB = (P_VV_AB + P_HH_AB - P_VH_AB - P_HV_AB) / (P_VV_AB + P_HH_AB + P_VH_AB + P_HV_AB)\n",
    "    \n",
    "    # We calculate the value of S\n",
    "    return E_ab+E_aB+E_Ab-E_AB\n"
   ]
  },
  {
   "cell_type": "markdown",
   "metadata": {},
   "source": [
    "Now we will calculate the value of S for \"n_scenarios\" different scenarios with randomly positioned polarizers.\n",
    "\n",
    "We take \"n_measurements\" different measurements to perform the statistics in each scenario.\n",
    "\n",
    "If we select the value of flag=0, we will assign random directions to the polarizations of the signal and idler photons individually. However, if we select flag=1, we will assign a random direction to the polarization of the signal photon and set the idler photon to have the same polarization direction (that is $\\lambda_s = \\lambda_i$)."
   ]
  },
  {
   "cell_type": "code",
   "execution_count": 6,
   "metadata": {},
   "outputs": [],
   "source": [
    "n_scenarios = 100\n",
    "n_measurements = 1000\n",
    "flag = 0\n",
    "\n",
    "for _ in range(n_scenarios):\n",
    "    # We assign random values to the angles of our polarizers.\n",
    "    a = random.uniform(0, 360)\n",
    "    A = random.uniform(0, 360)\n",
    "    b = random.uniform(0, 360)\n",
    "    B = random.uniform(0, 360)\n",
    "    \n",
    "    # We calculate the absolute value of S.\n",
    "    S = abs(Calculation_S(n_measurements,a,A,b,B,flag))\n",
    "    #print(S)\n",
    "    \n",
    "    #If the value of S is greater than 2, we stop the simulation.  \n",
    "    if S > 2:\n",
    "        print(\"The Bell inequalities have been violated.\")\n",
    "        break"
   ]
  },
  {
   "cell_type": "markdown",
   "metadata": {},
   "source": [
    "We can see that we reach the maximum value of S (S=2) for the case where the correlations are governed by Hidden Variable theories if we fix the direction of the polarizers as defined in the following line of code and ensure that at all times $\\lambda_s = \\lambda_i$ (i.e., we set flag=1)."
   ]
  },
  {
   "cell_type": "code",
   "execution_count": 18,
   "metadata": {},
   "outputs": [
    {
     "name": "stdout",
     "output_type": "stream",
     "text": [
      "2.0\n"
     ]
    }
   ],
   "source": [
    "flag = 1\n",
    "\n",
    "a = 0\n",
    "A = 45\n",
    "b = 22.5\n",
    "B = -22.5\n",
    "\n",
    "print(abs(Calculation_S(n_measurements,a,A,b,B,flag)))"
   ]
  },
  {
   "cell_type": "code",
   "execution_count": null,
   "metadata": {},
   "outputs": [],
   "source": []
  }
 ],
 "metadata": {
  "kernelspec": {
   "display_name": "Python 3",
   "language": "python",
   "name": "python3"
  },
  "language_info": {
   "codemirror_mode": {
    "name": "ipython",
    "version": 3
   },
   "file_extension": ".py",
   "mimetype": "text/x-python",
   "name": "python",
   "nbconvert_exporter": "python",
   "pygments_lexer": "ipython3",
   "version": "3.8.5"
  }
 },
 "nbformat": 4,
 "nbformat_minor": 4
}
